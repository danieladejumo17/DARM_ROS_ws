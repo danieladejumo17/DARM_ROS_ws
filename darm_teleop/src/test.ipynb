{
 "cells": [
  {
   "cell_type": "code",
   "execution_count": 2,
   "metadata": {},
   "outputs": [],
   "source": [
    "import numpy as np"
   ]
  },
  {
   "cell_type": "code",
   "execution_count": null,
   "metadata": {},
   "outputs": [],
   "source": []
  },
  {
   "cell_type": "code",
   "execution_count": 15,
   "metadata": {},
   "outputs": [
    {
     "name": "stdout",
     "output_type": "stream",
     "text": [
      "Loaded XML file successfully\n",
      "Using step size `0.01256` units\n",
      "Using `myo` reward type\n",
      "Number of tendon position actuators: 30\n",
      "Using `Box([-1. -1. -1. -1. -1. -1. -1. -1. -1. -1. -1. -1. -1. -1. -1. -1. -1. -1.\n",
      " -1. -1. -1. -1. -1. -1. -1. -1. -1. -1. -1. -1.], [1. 1. 1. 1. 1. 1. 1. 1. 1. 1. 1. 1. 1. 1. 1. 1. 1. 1. 1. 1. 1. 1. 1. 1.\n",
      " 1. 1. 1. 1. 1. 1.], (30,), float32)` action space\n"
     ]
    },
    {
     "name": "stderr",
     "output_type": "stream",
     "text": [
      "/home/daniel/miniconda3/lib/python3.8/site-packages/gym/spaces/box.py:73: UserWarning: \u001b[33mWARN: Box bound precision lowered by casting to float32\u001b[0m\n",
      "  logger.warn(\n"
     ]
    }
   ],
   "source": [
    "from darm_gym_env import DARMEnv\n",
    "\n",
    "env = DARMEnv(render_mode=None, \n",
    "                action_time=0.08, \n",
    "                hand_name=\"hand1\", \n",
    "                digits=[\"i\", \"ii\", \"iii\", \"iv\", \"v\"], \n",
    "                ignore_load_start_states=True)"
   ]
  },
  {
   "cell_type": "code",
   "execution_count": 26,
   "metadata": {},
   "outputs": [
    {
     "data": {
      "text/plain": [
       "array([0.0082, 0.0087, 0.0933])"
      ]
     },
     "execution_count": 26,
     "metadata": {},
     "output_type": "execute_result"
    }
   ],
   "source": [
    "M0 = env.data.body('hand1_mcp_centre_block_iii').xpos\n",
    "env.transform_distance_obs(M0)/100"
   ]
  },
  {
   "cell_type": "code",
   "execution_count": 38,
   "metadata": {},
   "outputs": [
    {
     "data": {
      "text/plain": [
       "array([[ 0.9952465415, -0.0038016801,  0.0434534024, -0.0870727898],\n",
       "       [ 1.0000000000,  0.0000000000,  0.0000000000,  0.0000000000],\n",
       "       [ 0.9980973490, -0.0019026510, -0.0435778714,  0.0435778714],\n",
       "       [ 0.9935753309, -0.0045594675, -0.1044289753,  0.0433804358]])"
      ]
     },
     "execution_count": 38,
     "metadata": {},
     "output_type": "execute_result"
    }
   ],
   "source": [
    "darm_orient = np.array([env.get_fingertip_pose(i)[3:7] for i in [\"ii\", \"iii\", \"iv\", \"v\"]])\n",
    "darm_orient"
   ]
  },
  {
   "cell_type": "code",
   "execution_count": 43,
   "metadata": {},
   "outputs": [
    {
     "data": {
      "text/plain": [
       "array([[-0.0870727898,  0.9952465415, -0.0038016801,  0.0434534024],\n",
       "       [ 0.0000000000,  1.0000000000,  0.0000000000,  0.0000000000],\n",
       "       [ 0.0435778714,  0.9980973490, -0.0019026510, -0.0435778714],\n",
       "       [ 0.0433804358,  0.9935753309, -0.0045594675, -0.1044289753]])"
      ]
     },
     "execution_count": 43,
     "metadata": {},
     "output_type": "execute_result"
    }
   ],
   "source": [
    "np.roll(darm_orient, shift=1, axis=-1)"
   ]
  },
  {
   "cell_type": "code",
   "execution_count": 49,
   "metadata": {},
   "outputs": [],
   "source": [
    "cam_orientations = np.array([[ 0.50,  0.44, -0.62, -0.41],\n",
    " [ 0.48,  0.41, -0.63, -0.45],\n",
    " [ 0.51,  0.37, -0.61, -0.48],\n",
    " [ 0.55,  0.41, -0.49, -0.54]])\n",
    "\n",
    "\n",
    "# [[ 0.47  0.45 -0.62 -0.44]\n",
    "#  [ 0.47  0.44 -0.60 -0.47]\n",
    "#  [ 0.49  0.40 -0.59 -0.50]\n",
    "#  [ 0.53  0.42 -0.49 -0.55]]\n",
    "# [[ 0.44  0.46 -0.62 -0.46]\n",
    "#  [ 0.46  0.43 -0.61 -0.48]\n",
    "#  [ 0.49  0.40 -0.60 -0.50]\n",
    "#  [ 0.51  0.43 -0.42 -0.61]]\n"
   ]
  },
  {
   "cell_type": "code",
   "execution_count": 79,
   "metadata": {},
   "outputs": [
    {
     "data": {
      "text/plain": [
       "(array([0.9003672226, 0.9003672226, 0.9003672226, 0.9003672226]),\n",
       " array([[ 0.0000003593,  0.0000003162, -0.0000004456],\n",
       "        [ 0.0000003450,  0.0000002947, -0.0000004528],\n",
       "        [ 0.0000003665,  0.0000002659, -0.0000004384],\n",
       "        [ 0.0000003953,  0.0000002947, -0.0000003522]]),\n",
       " array([[ 0.0000001564,  0.0000001376, -0.0000001939,  0.9003672226],\n",
       "        [ 0.0000001501,  0.0000001282, -0.0000001970,  0.9003672226],\n",
       "        [ 0.0000001595,  0.0000001157, -0.0000001908,  0.9003672226],\n",
       "        [ 0.0000001720,  0.0000001282, -0.0000001532,  0.9003672226]]))"
      ]
     },
     "execution_count": 79,
     "metadata": {},
     "output_type": "execute_result"
    }
   ],
   "source": [
    "obs = cam_orientations\n",
    "w = obs[:, 3].copy()\n",
    "xzy = obs[:, 0:3].copy()\n",
    "\n",
    "obs[:, 3] = np.cos(w/2)\n",
    "obs[:, 0:3] = xzy*np.reshape(np.sin(w/2), (4, 1))\n",
    "# xzy, np.reshape(np.sin(w/2), (4, 1))\n",
    "w, xzy, obs"
   ]
  },
  {
   "cell_type": "code",
   "execution_count": null,
   "metadata": {},
   "outputs": [],
   "source": [
    "cam_fingertips = [[ 3.87,  0.79, 18.35],\n",
    " [ 0.23,  1.26, 19.74],\n",
    " [-3.31,  1.91, 18.80],\n",
    " [-7.67, -2.75, 14.81]]\n",
    "\n",
    "# Updated IK_REF_LENGTH\n",
    "[[ 2.47 -1.33 19.06]\n",
    " [-2.16  0.02 20.26]\n",
    " [-4.97 -0.87 18.35]\n",
    " [-8.94 -3.19 14.01]]\n",
    "\n",
    "\n",
    "# [[ 2.80,  2.33 18.51]\n",
    "#  [-0.87  2.80 19.92]\n",
    "#  [-4.22  2.42 19.15]\n",
    "#  [-8.39 -1.88 15.10]]\n",
    "# [[ 3.69  0.76 18.49]\n",
    "#  [-0.24  0.10 20.22]\n",
    "#  [-3.61  0.76 19.25]\n",
    "#  [-7.68 -3.19 14.93]]\n",
    "# [[ 4.18  0.40 18.04]\n",
    "#  [ 0.28  1.00 20.03]\n",
    "#  [-3.12  0.53 19.14]\n",
    "#  [-7.24 -3.70 14.88]]\n"
   ]
  },
  {
   "attachments": {},
   "cell_type": "markdown",
   "metadata": {},
   "source": []
  },
  {
   "cell_type": "code",
   "execution_count": 3,
   "metadata": {},
   "outputs": [
    {
     "data": {
      "text/plain": [
       "(21, 3)"
      ]
     },
     "execution_count": 3,
     "metadata": {},
     "output_type": "execute_result"
    }
   ],
   "source": [
    "xyz = np.array(\n",
    " [[-3.39925997e-02,  9.87073302e-01, -2.79414654e-02],\n",
    " [-3.61008495e-01,  6.91357076e-01, -1.35344356e-01],\n",
    " [-5.48815846e-01,  4.44738656e-01, -3.01499397e-01],\n",
    " [-7.51019418e-01,  1.47613123e-01, -4.16701674e-01],\n",
    " [-8.93601775e-01, -2.90188968e-01, -5.27223885e-01],\n",
    " [-2.67713130e-01,  4.11484763e-03,  4.41602878e-02],\n",
    " [-3.93326938e-01, -4.32319582e-01,  1.75442636e-01],\n",
    " [-4.40349638e-01, -7.16268122e-01,  1.04264364e-01],\n",
    " [-4.36610579e-01, -1.06917846e+00,  7.08148777e-02],\n",
    " [-1.03901687e-09, -1.94015914e-11,  1.36727474e-09],\n",
    " [-4.62662466e-02, -4.40103680e-01,  1.48882017e-01],\n",
    " [-5.72443567e-02, -8.40861678e-01,  1.26788393e-01],\n",
    " [-1.20948255e-03, -1.19423902e+00,  4.61350456e-02],\n",
    " [ 1.99696794e-01,  8.16008896e-02, -1.23154104e-01],\n",
    " [ 2.21037939e-01, -3.29691291e-01,  1.63794458e-02],\n",
    " [ 2.68396527e-01, -6.33840919e-01, -3.40695269e-02],\n",
    " [ 2.85621703e-01, -1.05759454e+00, -7.90690780e-02],\n",
    " [ 3.37258935e-01,  2.30879441e-01, -3.25287253e-01],\n",
    " [ 4.82951164e-01, -1.74280286e-01, -3.87838960e-01],\n",
    " [ 4.77099478e-01, -3.34338069e-01, -4.37369615e-01],\n",
    " [ 5.50493598e-01, -6.50341213e-01, -4.79206741e-01]]\n",
    ")\n",
    "xyz.shape"
   ]
  },
  {
   "cell_type": "code",
   "execution_count": 25,
   "metadata": {},
   "outputs": [],
   "source": [
    "np.set_printoptions(precision=10, suppress=True, floatmode=\"maxprec_equal\", )"
   ]
  },
  {
   "cell_type": "code",
   "execution_count": 5,
   "metadata": {},
   "outputs": [
    {
     "data": {
      "text/plain": [
       "array([-0.32,  9.35, -0.26])"
      ]
     },
     "execution_count": 5,
     "metadata": {},
     "output_type": "execute_result"
    }
   ],
   "source": [
    "# [X, Z, Y]\n",
    "# +X points towrads the little finger\n",
    "# +Z points towards wrist\n",
    "# +Y points dorsally\n",
    "# Ref M0, index 9\n",
    "\n",
    "IK_UNIT_LENGTH = 0.09473151311686484 # in meter\n",
    "scale = IK_UNIT_LENGTH*100\n",
    "\n",
    "# WRIST\n",
    "xyz[0]*scale"
   ]
  },
  {
   "cell_type": "code",
   "execution_count": 6,
   "metadata": {},
   "outputs": [],
   "source": [
    "def trf(a):\n",
    "    IK_UNIT_LENGTH = 0.09473151311686484 # in meter\n",
    "    scale = IK_UNIT_LENGTH*100\n",
    "\n",
    "    res = (a - xyz[0])*scale*[-1, -1, 1]\n",
    "    \n",
    "    z = res[:, 1].copy()\n",
    "    y = res[:, 2].copy()\n",
    "    res[:,1] = y\n",
    "    res[:, 2] = z\n",
    "    \n",
    "    return res"
   ]
  },
  {
   "cell_type": "code",
   "execution_count": 22,
   "metadata": {},
   "outputs": [
    {
     "data": {
      "text/plain": [
       "array([[-0.32,  0.26,  9.35],\n",
       "       [ 0.12,  1.68, 13.52],\n",
       "       [ 0.22,  1.47, 17.32],\n",
       "       [-0.31,  0.70, 20.66]])"
      ]
     },
     "execution_count": 22,
     "metadata": {},
     "output_type": "execute_result"
    }
   ],
   "source": [
    "trf(xyz[9:13])"
   ]
  },
  {
   "cell_type": "code",
   "execution_count": 21,
   "metadata": {},
   "outputs": [
    {
     "data": {
      "text/plain": [
       "array([[-0.32,  9.35,  0.26],\n",
       "       [ 0.12, 13.52,  1.68],\n",
       "       [ 0.22, 17.32,  1.47],\n",
       "       [-0.31, 20.66,  0.70]])"
      ]
     },
     "execution_count": 21,
     "metadata": {},
     "output_type": "execute_result"
    }
   ],
   "source": [
    "a = xyz[9:13] - xyz[0]\n",
    "a=a*scale\n",
    "a = a*[-1, -1, 1]\n",
    "a"
   ]
  },
  {
   "cell_type": "code",
   "execution_count": 19,
   "metadata": {},
   "outputs": [
    {
     "data": {
      "text/plain": [
       "array([[-0.32,  0.26,  9.35],\n",
       "       [ 0.12,  1.68, 13.52],\n",
       "       [ 0.22,  1.47, 17.32],\n",
       "       [-0.31,  0.70, 20.66]])"
      ]
     },
     "execution_count": 19,
     "metadata": {},
     "output_type": "execute_result"
    }
   ],
   "source": [
    "z = a[:, 1].copy()\n",
    "y = a[:, 2].copy()\n",
    "a[:,1] = y; a[:, 2] = z\n",
    "a"
   ]
  },
  {
   "cell_type": "code",
   "execution_count": 9,
   "metadata": {},
   "outputs": [
    {
     "data": {
      "text/plain": [
       "(array([-0., -0.,  0.]),\n",
       " array([-0.44, -4.17,  1.41]),\n",
       " array([-0.54, -7.97,  1.20]),\n",
       " array([ -0.01, -11.31,   0.44]))"
      ]
     },
     "execution_count": 9,
     "metadata": {},
     "output_type": "execute_result"
    }
   ],
   "source": [
    "# MIDDLE FINGER\n",
    "xyz[9]*scale, xyz[10]*scale, xyz[11]*scale, xyz[12]*scale"
   ]
  },
  {
   "cell_type": "code",
   "execution_count": 50,
   "metadata": {},
   "outputs": [
    {
     "data": {
      "text/plain": [
       "(array([-2.54,  0.04,  0.42]),\n",
       " array([-3.73, -4.10,  1.66]),\n",
       " array([-4.17, -6.79,  0.99]),\n",
       " array([ -4.14, -10.13,   0.67]))"
      ]
     },
     "execution_count": 50,
     "metadata": {},
     "output_type": "execute_result"
    }
   ],
   "source": [
    "# INDEX FINGER\n",
    "xyz[5]*scale, xyz[6]*scale, xyz[7]*scale, xyz[8]*scale"
   ]
  },
  {
   "cell_type": "code",
   "execution_count": 26,
   "metadata": {},
   "outputs": [
    {
     "name": "stdout",
     "output_type": "stream",
     "text": [
      "[[-0.034  0.987 -0.028]\n",
      " [-0.361  0.691 -0.135]\n",
      " [-0.549  0.445 -0.301]\n",
      " [-0.751  0.148 -0.417]\n",
      " [-0.894 -0.290 -0.527]\n",
      " [-0.268  0.004  0.044]\n",
      " [-0.393 -0.432  0.175]\n",
      " [-0.440 -0.716  0.104]\n",
      " [-0.437 -1.069  0.071]\n",
      " [-0.000 -0.000  0.000]\n",
      " [-0.046 -0.440  0.149]\n",
      " [-0.057 -0.841  0.127]\n",
      " [-0.001 -1.194  0.046]\n",
      " [ 0.200  0.082 -0.123]\n",
      " [ 0.221 -0.330  0.016]\n",
      " [ 0.268 -0.634 -0.034]\n",
      " [ 0.286 -1.058 -0.079]\n",
      " [ 0.337  0.231 -0.325]\n",
      " [ 0.483 -0.174 -0.388]\n",
      " [ 0.477 -0.334 -0.437]\n",
      " [ 0.550 -0.650 -0.479]]\n"
     ]
    }
   ],
   "source": [
    "print(xyz)"
   ]
  },
  {
   "cell_type": "code",
   "execution_count": null,
   "metadata": {},
   "outputs": [],
   "source": []
  }
 ],
 "metadata": {
  "kernelspec": {
   "display_name": "base",
   "language": "python",
   "name": "python3"
  },
  "language_info": {
   "codemirror_mode": {
    "name": "ipython",
    "version": 3
   },
   "file_extension": ".py",
   "mimetype": "text/x-python",
   "name": "python",
   "nbconvert_exporter": "python",
   "pygments_lexer": "ipython3",
   "version": "3.8.12"
  },
  "orig_nbformat": 4
 },
 "nbformat": 4,
 "nbformat_minor": 2
}
